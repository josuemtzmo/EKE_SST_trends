{
 "cells": [
  {
   "cell_type": "markdown",
   "metadata": {},
   "source": [
    "# EKE preprocessing"
   ]
  },
  {
   "cell_type": "markdown",
   "metadata": {},
   "source": [
    "This notebook shows how to generate the EKE_timeseries.nc file"
   ]
  },
  {
   "cell_type": "code",
   "execution_count": 1,
   "metadata": {},
   "outputs": [],
   "source": [
    "# Import libraries\n",
    "import xarray as xr\n",
    "import cmocean as cm\n",
    "import cartopy.crs as ccrs\n",
    "\n",
    "import pylab as plt\n",
    "import numpy as np\n",
    "# Inline plotting\n",
    "%matplotlib inline"
   ]
  },
  {
   "cell_type": "code",
   "execution_count": 2,
   "metadata": {},
   "outputs": [],
   "source": [
    "from dask.distributed import Client"
   ]
  },
  {
   "cell_type": "code",
   "execution_count": 3,
   "metadata": {},
   "outputs": [],
   "source": [
    "from utils import area,ccrs_land,add_patches\n",
    "import datetime"
   ]
  },
  {
   "cell_type": "code",
   "execution_count": 4,
   "metadata": {},
   "outputs": [
    {
     "data": {
      "text/html": [
       "<table style=\"border: 2px solid white;\">\n",
       "<tr>\n",
       "<td style=\"vertical-align: top; border: 0px solid white\">\n",
       "<h3 style=\"text-align: left;\">Client</h3>\n",
       "<ul style=\"text-align: left; list-style: none; margin: 0; padding: 0;\">\n",
       "  <li><b>Scheduler: </b>tcp://127.0.0.1:33065</li>\n",
       "  <li><b>Dashboard: </b><a href='/proxy/8787/status' target='_blank'>/proxy/8787/status</a></li>\n",
       "</ul>\n",
       "</td>\n",
       "<td style=\"vertical-align: top; border: 0px solid white\">\n",
       "<h3 style=\"text-align: left;\">Cluster</h3>\n",
       "<ul style=\"text-align: left; list-style:none; margin: 0; padding: 0;\">\n",
       "  <li><b>Workers: </b>8</li>\n",
       "  <li><b>Cores: </b>32</li>\n",
       "  <li><b>Memory: </b>137.44 GB</li>\n",
       "</ul>\n",
       "</td>\n",
       "</tr>\n",
       "</table>"
      ],
      "text/plain": [
       "<Client: 'tcp://127.0.0.1:33065' processes=8 threads=32, memory=137.44 GB>"
      ]
     },
     "execution_count": 4,
     "metadata": {},
     "output_type": "execute_result"
    }
   ],
   "source": [
    "c = Client()\n",
    "c"
   ]
  },
  {
   "cell_type": "code",
   "execution_count": 5,
   "metadata": {},
   "outputs": [],
   "source": [
    "path_v4 = '/g/data/ua8/CMEMS_SeaLevel/v4-0/'\n",
    "inputfiles=[path_v4+\"{0}/\".format(ii) for ii in range(1993,2018)] \n",
    "inputfiles.append('/g/data/ua8/CMEMS_SeaLevel/v2019/2018/')\n",
    "inputfiles.append('/g/data/ua8/CMEMS_SeaLevel/v2019/2019/')\n",
    "import os\n",
    "files=[]\n",
    "for folder in inputfiles:\n",
    "    for f in os.listdir(folder):\n",
    "        if '.nc' in f:\n",
    "            files.append(os.path.join(folder, f))\n",
    "            \n",
    "# inputfiles='path2AVISO+/*.nc'"
   ]
  },
  {
   "cell_type": "code",
   "execution_count": null,
   "metadata": {},
   "outputs": [],
   "source": [
    "dataset_AVISO = xr.open_mfdataset(files)#,parallel=True)"
   ]
  },
  {
   "cell_type": "code",
   "execution_count": null,
   "metadata": {},
   "outputs": [],
   "source": [
    "dataset_AVISO"
   ]
  },
  {
   "cell_type": "markdown",
   "metadata": {},
   "source": [
    "### Compute EKE:\n",
    "\n",
    "\\begin{equation}\n",
    "EKE = \\frac{1}{2} \\left(u'^2+v'^2\\right)\n",
    "\\end{equation}\n",
    "\n",
    "The provided $u'$ and $v'$ from AVISO is an anomaly from 1993-2005. Changing this period does not affect the main result of the study."
   ]
  },
  {
   "cell_type": "code",
   "execution_count": null,
   "metadata": {},
   "outputs": [],
   "source": [
    "EKE = 1/2 * (dataset_AVISO.ugosa**2 + dataset_AVISO.vgosa**2)"
   ]
  },
  {
   "cell_type": "markdown",
   "metadata": {},
   "source": [
    "Rechunk dataset"
   ]
  },
  {
   "cell_type": "code",
   "execution_count": null,
   "metadata": {},
   "outputs": [],
   "source": [
    "EKE_rechunk = EKE.chunk({\"latitude\": 100, \"longitude\": 100,'time':365})"
   ]
  },
  {
   "cell_type": "code",
   "execution_count": null,
   "metadata": {},
   "outputs": [],
   "source": [
    "EKE_rechunk"
   ]
  },
  {
   "cell_type": "markdown",
   "metadata": {},
   "source": [
    "Coarsen dataset to a 1 degree grid."
   ]
  },
  {
   "cell_type": "code",
   "execution_count": null,
   "metadata": {},
   "outputs": [],
   "source": [
    "EKE_coarsen = EKE_rechunk.coarsen({'latitude':4,'longitude':4}).mean()"
   ]
  },
  {
   "cell_type": "markdown",
   "metadata": {},
   "source": [
    "Roll over 12 months:"
   ]
  },
  {
   "cell_type": "code",
   "execution_count": null,
   "metadata": {},
   "outputs": [],
   "source": [
    "EKE_rolled = EKE_coarsen.rolling(time=365,center=True).mean().compute() #This computation requires ~ 50 GB of RAM."
   ]
  },
  {
   "cell_type": "code",
   "execution_count": null,
   "metadata": {},
   "outputs": [],
   "source": [
    "EKE_rolled = EKE_rolled.to_dataset(name=\"EKE\").rename({'latitude':'lat','longitude':'lon'})"
   ]
  },
  {
   "cell_type": "code",
   "execution_count": null,
   "metadata": {},
   "outputs": [],
   "source": [
    "EKE_rolled"
   ]
  },
  {
   "cell_type": "markdown",
   "metadata": {},
   "source": [
    "### Add metadata"
   ]
  },
  {
   "cell_type": "code",
   "execution_count": null,
   "metadata": {},
   "outputs": [],
   "source": [
    "EKE_rolled.attrs['title'] = \"Eddy Kinetic Energy\"\n",
    "EKE_rolled.attrs['Description'] = \"\"\"Eddy Kinetic Energy computed from AVISO+ altimetry products.\"\"\"\n",
    "EKE_rolled.attrs['Publication'] = \"Dataset created for Martínez-Moreno, J. et. al. 2020: \\n 'Global changes in oceanic mesoscale currents over the satellite altimetry record'\"\n",
    "EKE_rolled.attrs['Author'] = \"Josué Martínez-Moreno\"\n",
    "EKE_rolled.attrs['Contact'] = \"josue.martinezmoreno@anu.edu.au\"\n",
    "\n",
    "EKE_rolled.attrs['Created date'] = datetime.datetime.now().strftime(\"%d/%m/%Y %H:%M:%S\")\n",
    "\n",
    "counter = 0\n",
    "units = [r\"$m^2s^{-2}$\"]\n",
    "names = [\"EKE\"]\n",
    "long_names = [\"Eddy Kinetic Energy\"]\n",
    "\n",
    "EKE_rolled['EKE'].attrs['units'] = units[counter]\n",
    "EKE_rolled['EKE'].attrs['name'] = names[counter]\n",
    "EKE_rolled['EKE'].attrs['long_name'] = long_names[counter]\n",
    "\n",
    "EKE_rolled['EKE'].attrs['missing_value'] = np.nan\n",
    "EKE_rolled['EKE'].attrs['valid_min'] = np.nanmin(EKE_rolled['EKE'])\n",
    "EKE_rolled['EKE'].attrs['valid_max'] = np.nanmax(EKE_rolled['EKE'])\n",
    "EKE_rolled['EKE'].attrs['valid_range'] = [np.nanmin(EKE_rolled['EKE']),np.nanmax(EKE_rolled['EKE'])]"
   ]
  },
  {
   "cell_type": "markdown",
   "metadata": {},
   "source": [
    "## Store netCDF"
   ]
  },
  {
   "cell_type": "code",
   "execution_count": null,
   "metadata": {},
   "outputs": [],
   "source": [
    "comp = dict(zlib=True, complevel=5)\n",
    "encoding = {var: comp for var in EKE_rolled.data_vars}\n",
    "\n",
    "EKE_rolled.to_netcdf('../datasets/EKE_timeseries.nc', encoding=encoding)"
   ]
  }
 ],
 "metadata": {
  "kernelspec": {
   "display_name": "Python [conda env:analysis3-21.01]",
   "language": "python",
   "name": "conda-env-analysis3-21.01-py"
  },
  "language_info": {
   "codemirror_mode": {
    "name": "ipython",
    "version": 3
   },
   "file_extension": ".py",
   "mimetype": "text/x-python",
   "name": "python",
   "nbconvert_exporter": "python",
   "pygments_lexer": "ipython3",
   "version": "3.8.6"
  }
 },
 "nbformat": 4,
 "nbformat_minor": 4
}
