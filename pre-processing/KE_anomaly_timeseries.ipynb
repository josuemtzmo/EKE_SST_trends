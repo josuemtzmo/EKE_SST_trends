{
 "cells": [
  {
   "cell_type": "markdown",
   "metadata": {},
   "source": [
    "# Compute Kinetic Energy anomaly trends (as computed by Hu et al. 2020)"
   ]
  },
  {
   "cell_type": "code",
   "execution_count": 6,
   "metadata": {},
   "outputs": [],
   "source": [
    "# Import libraries\n",
    "import xarray as xr\n",
    "import cmocean as cm\n",
    "import cartopy.crs as ccrs\n",
    "\n",
    "import pylab as plt\n",
    "import numpy as np\n",
    "# Inline plotting\n",
    "%matplotlib inline"
   ]
  },
  {
   "cell_type": "code",
   "execution_count": 7,
   "metadata": {},
   "outputs": [],
   "source": [
    "from dask.distributed import Client"
   ]
  },
  {
   "cell_type": "code",
   "execution_count": 8,
   "metadata": {},
   "outputs": [],
   "source": [
    "from utils import area,ccrs_land,add_patches\n",
    "import datetime as datetime"
   ]
  },
  {
   "cell_type": "code",
   "execution_count": 9,
   "metadata": {},
   "outputs": [
    {
     "name": "stderr",
     "output_type": "stream",
     "text": [
      "/g/data3/hh5/public/apps/miniconda3/envs/analysis3-20.10/lib/python3.8/site-packages/distributed/node.py:151: UserWarning: Port 8787 is already in use.\n",
      "Perhaps you already have a cluster running?\n",
      "Hosting the HTTP server on port 37889 instead\n",
      "  warnings.warn(\n"
     ]
    },
    {
     "data": {
      "text/html": [
       "<table style=\"border: 2px solid white;\">\n",
       "<tr>\n",
       "<td style=\"vertical-align: top; border: 0px solid white\">\n",
       "<h3 style=\"text-align: left;\">Client</h3>\n",
       "<ul style=\"text-align: left; list-style: none; margin: 0; padding: 0;\">\n",
       "  <li><b>Scheduler: </b>tcp://127.0.0.1:32821</li>\n",
       "  <li><b>Dashboard: </b><a href='/proxy/37889/status' target='_blank'>/proxy/37889/status</a></li>\n",
       "</ul>\n",
       "</td>\n",
       "<td style=\"vertical-align: top; border: 0px solid white\">\n",
       "<h3 style=\"text-align: left;\">Cluster</h3>\n",
       "<ul style=\"text-align: left; list-style:none; margin: 0; padding: 0;\">\n",
       "  <li><b>Workers: </b>8</li>\n",
       "  <li><b>Cores: </b>48</li>\n",
       "  <li><b>Memory: </b>202.48 GB</li>\n",
       "</ul>\n",
       "</td>\n",
       "</tr>\n",
       "</table>"
      ],
      "text/plain": [
       "<Client: 'tcp://127.0.0.1:32821' processes=8 threads=48, memory=202.48 GB>"
      ]
     },
     "execution_count": 9,
     "metadata": {},
     "output_type": "execute_result"
    }
   ],
   "source": [
    "c = Client()\n",
    "c"
   ]
  },
  {
   "cell_type": "code",
   "execution_count": 10,
   "metadata": {},
   "outputs": [],
   "source": [
    "files='/g/data/ua8/CMEMS_SeaLevel/v2019/*/*.nc'"
   ]
  },
  {
   "cell_type": "code",
   "execution_count": 11,
   "metadata": {},
   "outputs": [],
   "source": [
    "dataset_AVISO = xr.open_mfdataset(files,parallel=True)"
   ]
  },
  {
   "cell_type": "code",
   "execution_count": 12,
   "metadata": {},
   "outputs": [],
   "source": [
    "dataset_AVISO = dataset_AVISO.rename({'latitude':'lat','longitude':'lon'})"
   ]
  },
  {
   "cell_type": "code",
   "execution_count": 14,
   "metadata": {},
   "outputs": [],
   "source": [
    "ugos = dataset_AVISO.ugos.chunk({\"lat\": 100, \"lon\": 100,'time':357})\n",
    "vgos = dataset_AVISO.ugos.chunk({\"lat\": 100, \"lon\": 100,'time':357})"
   ]
  },
  {
   "cell_type": "code",
   "execution_count": 15,
   "metadata": {},
   "outputs": [],
   "source": [
    "KE = 1/2 * (ugos**2 + vgos**2).coarsen({'lat':4,'lon':4}).mean().compute()"
   ]
  },
  {
   "cell_type": "code",
   "execution_count": 16,
   "metadata": {},
   "outputs": [],
   "source": [
    "# Use same reference mean (1993-2012)\n",
    "mean_KE = KE.sel(time=slice('1993','2012')).mean()"
   ]
  },
  {
   "cell_type": "code",
   "execution_count": 17,
   "metadata": {},
   "outputs": [],
   "source": [
    "KE_anomaly = (KE - mean_KE)"
   ]
  },
  {
   "cell_type": "code",
   "execution_count": 18,
   "metadata": {},
   "outputs": [],
   "source": [
    "KE_rolled = KE_anomaly.rolling(time=365,center=True).mean().compute()"
   ]
  },
  {
   "cell_type": "code",
   "execution_count": 19,
   "metadata": {},
   "outputs": [],
   "source": [
    "KE_rolled = KE_rolled.to_dataset(name=\"KE'\")"
   ]
  },
  {
   "cell_type": "code",
   "execution_count": 20,
   "metadata": {},
   "outputs": [],
   "source": [
    "KE_rolled.attrs['title'] = \"Kinetic Energy anomaly\"\n",
    "KE_rolled.attrs['Description'] = \"\"\"Kinetic Energy anomaly computed from AVISO+ altimetry products (Satellite reproduction of Hu's et al. (2020) paper).\"\"\"\n",
    "KE_rolled.attrs['Publication'] = \"Dataset created for Martínez-Moreno, J. et. al. 2020: \\n 'Global changes in oceanic mesoscale currents over the satellite altimetry record'\"\n",
    "KE_rolled.attrs['Author'] = \"Josué Martínez-Moreno\"\n",
    "KE_rolled.attrs['Contact'] = \"josue.martinezmoreno@anu.edu.au\"\n",
    "\n",
    "KE_rolled.attrs['Created date'] = datetime.datetime.now().strftime(\"%d/%m/%Y %H:%M:%S\")\n",
    "\n",
    "counter = 0\n",
    "units = [r\"$m^2s^{-2}$\"]\n",
    "names = [\"KE'\"]\n",
    "long_names = [\"Kinetic Energy anomaly\"]\n",
    "\n",
    "KE_rolled[\"KE'\"].attrs['units'] = units[counter]\n",
    "KE_rolled[\"KE'\"].attrs['name'] = names[counter]\n",
    "KE_rolled[\"KE'\"].attrs['long_name'] = long_names[counter]\n",
    "\n",
    "KE_rolled[\"KE'\"].attrs['missing_value'] = np.nan\n",
    "KE_rolled[\"KE'\"].attrs['valid_min'] = np.nanmin(KE_rolled[\"KE'\"])\n",
    "KE_rolled[\"KE'\"].attrs['valid_max'] = np.nanmax(KE_rolled[\"KE'\"])\n",
    "KE_rolled[\"KE'\"].attrs['valid_range'] = [np.nanmin(KE_rolled[\"KE'\"]),np.nanmax(KE_rolled[\"KE'\"])]"
   ]
  },
  {
   "cell_type": "code",
   "execution_count": 21,
   "metadata": {},
   "outputs": [],
   "source": [
    "comp = dict(zlib=True, complevel=5)\n",
    "encoding = {var: comp for var in KE_rolled.data_vars}\n",
    "\n",
    "KE_rolled.to_netcdf('../datasets/KE_anomaly_timeseries.nc', encoding=encoding)"
   ]
  }
 ],
 "metadata": {
  "kernelspec": {
   "display_name": "Python [conda env:analysis3-20.10]",
   "language": "python",
   "name": "conda-env-analysis3-20.10-py"
  },
  "language_info": {
   "codemirror_mode": {
    "name": "ipython",
    "version": 3
   },
   "file_extension": ".py",
   "mimetype": "text/x-python",
   "name": "python",
   "nbconvert_exporter": "python",
   "pygments_lexer": "ipython3",
   "version": "3.8.6"
  }
 },
 "nbformat": 4,
 "nbformat_minor": 4
}
