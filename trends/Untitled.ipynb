{
 "cells": [
  {
   "cell_type": "code",
   "execution_count": null,
   "metadata": {},
   "outputs": [],
   "source": []
  },
  {
   "cell_type": "code",
   "execution_count": 1,
   "metadata": {},
   "outputs": [],
   "source": [
    "# Import libraries\n",
    "import xarray as xr\n",
    "import cmocean as cm\n",
    "import cartopy.crs as ccrs\n",
    "\n",
    "import pylab as plt\n",
    "import numpy as np\n",
    "# Inline plotting\n",
    "%matplotlib inline"
   ]
  },
  {
   "cell_type": "code",
   "execution_count": 2,
   "metadata": {},
   "outputs": [],
   "source": [
    "from xarrayMannKendall import Mann_Kendall_test"
   ]
  },
  {
   "cell_type": "code",
   "execution_count": 3,
   "metadata": {},
   "outputs": [],
   "source": [
    "from utils import area"
   ]
  },
  {
   "cell_type": "code",
   "execution_count": 4,
   "metadata": {},
   "outputs": [],
   "source": [
    "from dask.distributed import Client"
   ]
  },
  {
   "cell_type": "code",
   "execution_count": 5,
   "metadata": {},
   "outputs": [
    {
     "data": {
      "text/html": [
       "<table style=\"border: 2px solid white;\">\n",
       "<tr>\n",
       "<td style=\"vertical-align: top; border: 0px solid white\">\n",
       "<h3 style=\"text-align: left;\">Client</h3>\n",
       "<ul style=\"text-align: left; list-style: none; margin: 0; padding: 0;\">\n",
       "  <li><b>Scheduler: </b>tcp://127.0.0.1:60027</li>\n",
       "  <li><b>Dashboard: </b><a href='http://127.0.0.1:8787/status' target='_blank'>http://127.0.0.1:8787/status</a></li>\n",
       "</ul>\n",
       "</td>\n",
       "<td style=\"vertical-align: top; border: 0px solid white\">\n",
       "<h3 style=\"text-align: left;\">Cluster</h3>\n",
       "<ul style=\"text-align: left; list-style:none; margin: 0; padding: 0;\">\n",
       "  <li><b>Workers: </b>4</li>\n",
       "  <li><b>Cores: </b>8</li>\n",
       "  <li><b>Memory: </b>17.18 GB</li>\n",
       "</ul>\n",
       "</td>\n",
       "</tr>\n",
       "</table>"
      ],
      "text/plain": [
       "<Client: 'tcp://127.0.0.1:60027' processes=4 threads=8, memory=17.18 GB>"
      ]
     },
     "execution_count": 5,
     "metadata": {},
     "output_type": "execute_result"
    }
   ],
   "source": [
    "c = Client()\n",
    "c"
   ]
  },
  {
   "cell_type": "code",
   "execution_count": 6,
   "metadata": {},
   "outputs": [],
   "source": [
    "dataset_EKE = xr.open_dataset('../datasets/EKE_timeseries.nc',chunks={'lat':10,'lon':10})"
   ]
  },
  {
   "cell_type": "code",
   "execution_count": 7,
   "metadata": {},
   "outputs": [],
   "source": [
    "rho=1025 #kg/m^3"
   ]
  },
  {
   "cell_type": "code",
   "execution_count": 8,
   "metadata": {},
   "outputs": [],
   "source": [
    "EKE_density = rho*dataset_EKE.EKE"
   ]
  },
  {
   "cell_type": "code",
   "execution_count": 9,
   "metadata": {},
   "outputs": [],
   "source": [
    "#.where(np.isfinite(dataset.EKE_eddy),0)\n",
    "\n",
    "EKE = EKE_density.sortby('time').sel(time=slice('1993','2019'))"
   ]
  },
  {
   "cell_type": "code",
   "execution_count": 10,
   "metadata": {},
   "outputs": [
    {
     "data": {
      "text/plain": [
       "\u001b[0;31mInit signature:\u001b[0m\n",
       "\u001b[0mMann_Kendall_test\u001b[0m\u001b[0;34m(\u001b[0m\u001b[0;34m\u001b[0m\n",
       "\u001b[0;34m\u001b[0m    \u001b[0mDataArray\u001b[0m\u001b[0;34m,\u001b[0m\u001b[0;34m\u001b[0m\n",
       "\u001b[0;34m\u001b[0m    \u001b[0mdim\u001b[0m\u001b[0;34m=\u001b[0m\u001b[0;34m'time'\u001b[0m\u001b[0;34m,\u001b[0m\u001b[0;34m\u001b[0m\n",
       "\u001b[0;34m\u001b[0m    \u001b[0malpha\u001b[0m\u001b[0;34m=\u001b[0m\u001b[0;36m0.01\u001b[0m\u001b[0;34m,\u001b[0m\u001b[0;34m\u001b[0m\n",
       "\u001b[0;34m\u001b[0m    \u001b[0mMK_modified\u001b[0m\u001b[0;34m=\u001b[0m\u001b[0;32mFalse\u001b[0m\u001b[0;34m,\u001b[0m\u001b[0;34m\u001b[0m\n",
       "\u001b[0;34m\u001b[0m    \u001b[0mmethod\u001b[0m\u001b[0;34m=\u001b[0m\u001b[0;34m'linregress'\u001b[0m\u001b[0;34m,\u001b[0m\u001b[0;34m\u001b[0m\n",
       "\u001b[0;34m\u001b[0m    \u001b[0mcoords_name\u001b[0m\u001b[0;34m=\u001b[0m\u001b[0;32mNone\u001b[0m\u001b[0;34m,\u001b[0m\u001b[0;34m\u001b[0m\n",
       "\u001b[0;34m\u001b[0m\u001b[0;34m)\u001b[0m\u001b[0;34m\u001b[0m\u001b[0;34m\u001b[0m\u001b[0m\n",
       "\u001b[0;31mDocstring:\u001b[0m     \n",
       "Compute linear trends and significance using Mann Kendall test.\n",
       "\n",
       "Parameters\n",
       "----------\n",
       "DataArray : xarray.DataArray\n",
       "    Dataset to analyse.\n",
       "dim : str\n",
       "    Coordiante name in which the linear trend will apply ('time').\n",
       "alpha: float\n",
       "    Significance level (default = 0.01)\n",
       "MK_modified: Boolean\n",
       "    Modified Mann-Kendall using Yue and Wang (2004) method.\n",
       "    DOI: https://doi.org/10.1023/B:WARM.0000043140.61082.60\n",
       "method: str\n",
       "    Method for linear regresion: linregress (default) and theilslopes\n",
       "coords_name: dict\n",
       "    Coordinates name dict renames coordinates to 'lon','lat'. \n",
       "    Example:   \n",
       "        coords_name={'xu_ocean':'lon','yu_ocean':'lat','t':time}\n",
       "        \n",
       "Example:\n",
       "\n",
       "    # Time series length\n",
       "    n=100\n",
       "    time = np.arange(n)\n",
       "    # Grid\n",
       "    x = np.arange(4)\n",
       "    y = np.arange(4)\n",
       "    \n",
       "    # Create dataarray\n",
       "    data = np.zeros((len(time), len(x), len(y)))\n",
       "    da = xr.DataArray(data, coords=[time, x , y], \n",
       "                        dims=['time', 'lon', 'lat'])\n",
       "    # Create noise\n",
       "    noise = np.random.randn(*np.shape(data))\n",
       "    \n",
       "    # Create dataarray with positive linear trend\n",
       "    linear_trend = xr.DataArray(time, coords=[time], dims=['time'])\n",
       "    \n",
       "    # Add noise to trend\n",
       "    da_with_linear_trend = (da + linear_trend) + noise\n",
       "    \n",
       "    # Compute trends using Mann-Kendall test\n",
       "    MK_class = Mann_Kendall_test(da_with_linear_trend, 'time')\n",
       "    MK_trends = MK_class.compute()        \n",
       "    \n",
       "\u001b[0;31mFile:\u001b[0m           ~/Documents/academia/phd/github/xarrayMannKendall/xarrayMannKendall/xarrayMannKendall.py\n",
       "\u001b[0;31mType:\u001b[0m           type\n",
       "\u001b[0;31mSubclasses:\u001b[0m     \n"
      ]
     },
     "metadata": {},
     "output_type": "display_data"
    }
   ],
   "source": [
    "?Mann_Kendall_test"
   ]
  },
  {
   "cell_type": "code",
   "execution_count": 11,
   "metadata": {},
   "outputs": [],
   "source": [
    "tke_trends = Mann_Kendall_test(EKE,'time',MK_modified=True,\n",
    "                               method=\"linregress\",alpha=0.05, \n",
    "                               coords_name = {'time':'time','x':'lon','y':'lat'})"
   ]
  },
  {
   "cell_type": "code",
   "execution_count": null,
   "metadata": {},
   "outputs": [],
   "source": [
    "trend_files = tke_trends.compute(path='../datasets/EKE_trends_computed.nc')"
   ]
  },
  {
   "cell_type": "code",
   "execution_count": null,
   "metadata": {},
   "outputs": [],
   "source": []
  }
 ],
 "metadata": {
  "kernelspec": {
   "display_name": "trackeddy",
   "language": "python",
   "name": "mtrackeddy"
  },
  "language_info": {
   "codemirror_mode": {
    "name": "ipython",
    "version": 3
   },
   "file_extension": ".py",
   "mimetype": "text/x-python",
   "name": "python",
   "nbconvert_exporter": "python",
   "pygments_lexer": "ipython3",
   "version": "3.8.5"
  }
 },
 "nbformat": 4,
 "nbformat_minor": 4
}
